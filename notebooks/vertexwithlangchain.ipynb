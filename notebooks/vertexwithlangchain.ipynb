{
 "cells": [
  {
   "cell_type": "code",
   "execution_count": 8,
   "id": "b7626e04",
   "metadata": {},
   "outputs": [],
   "source": [
    "from google.oauth2 import service_account"
   ]
  },
  {
   "cell_type": "code",
   "execution_count": 14,
   "id": "0ecde700",
   "metadata": {},
   "outputs": [
    {
     "name": "stdout",
     "output_type": "stream",
     "text": [
      "Your browser has been opened to visit:\n",
      "\n",
      "    https://accounts.google.com/o/oauth2/auth?response_type=code&client_id=764086051850-6qr4p6gpi6hn506pt8ejuq83di341hur.apps.googleusercontent.com&redirect_uri=http%3A%2F%2Flocalhost%3A8085%2F&scope=openid+https%3A%2F%2Fwww.googleapis.com%2Fauth%2Fuserinfo.email+https%3A%2F%2Fwww.googleapis.com%2Fauth%2Fcloud-platform+https%3A%2F%2Fwww.googleapis.com%2Fauth%2Fsqlservice.login&state=5eOCd84GLhGCnYZUedKXTqQbOhRijl&access_type=offline&code_challenge=J8tvEnw7sKNDrY3noX-o8rcSE5mT-m6UDqsD040ttDA&code_challenge_method=S256\n",
      "\n",
      "\n",
      "Credentials saved to file: [/home/piraivn/.config/gcloud/application_default_credentials.json]\n",
      "\n",
      "These credentials will be used by any library that requests Application Default Credentials (ADC).\n",
      "\u001b[1;33mWARNING:\u001b[0m \n",
      "Cannot find a quota project to add to ADC. You might receive a \"quota exceeded\" or \"API not enabled\" error. Run $ gcloud auth application-default set-quota-project to add a quota project.\n"
     ]
    }
   ],
   "source": [
    "!gcloud auth application-default login"
   ]
  },
  {
   "cell_type": "code",
   "execution_count": 18,
   "id": "7066da3c",
   "metadata": {},
   "outputs": [],
   "source": [
    "from os.path import expanduser\n",
    "\n",
    "HOME = expanduser(\"~\")\n",
    "credentials = service_account.Credentials.from_service_account_file(f\"{HOME}/Downloads/aiserver_sa.json\")"
   ]
  },
  {
   "cell_type": "code",
   "execution_count": 1,
   "id": "1511863d",
   "metadata": {},
   "outputs": [],
   "source": [
    "from langchain_google_vertexai import VertexAI"
   ]
  },
  {
   "cell_type": "code",
   "execution_count": 20,
   "id": "c1bacf6c",
   "metadata": {},
   "outputs": [],
   "source": [
    "model = VertexAI(model_name=\"gemini-2.5-flash\", credentials=credentials)"
   ]
  },
  {
   "cell_type": "code",
   "execution_count": 21,
   "id": "f9090b39",
   "metadata": {},
   "outputs": [
    {
     "data": {
      "text/plain": [
       "\"Hello! I'm doing well, thank you for asking.\\n\\nHow can I help you today?\""
      ]
     },
     "execution_count": 21,
     "metadata": {},
     "output_type": "execute_result"
    }
   ],
   "source": [
    "model.invoke(\"Hello, how are you?\")"
   ]
  },
  {
   "cell_type": "code",
   "execution_count": 33,
   "id": "0d0015f5",
   "metadata": {},
   "outputs": [],
   "source": [
    "from langchain_community.utilities import GooglePlacesAPIWrapper"
   ]
  },
  {
   "cell_type": "code",
   "execution_count": null,
   "id": "4dcde830",
   "metadata": {},
   "outputs": [],
   "source": [
    "import os\n",
    "os.environ[\"GPLACES_API_KEY\"] = os.getenv(\"GPLACES_API_KEY\")\n",
    "places = GooglePlacesAPIWrapper()"
   ]
  },
  {
   "cell_type": "code",
   "execution_count": 38,
   "id": "daa141bc",
   "metadata": {},
   "outputs": [
    {
     "data": {
      "text/plain": [
       "\"1. Vijinapura Lake\\nAddress: 89, Nagappa Reddy Layout, Dooravani Nagar, Bengaluru, Karnataka 560016, India\\nGoogle place ID: ChIJ9aRU_oYRrjsRXCWw3TRhVZA\\nPhone: 080 2235 2828\\nWebsite: Unknown\\n\\n\\n2. Jinkethimmanahalli Lake\\nAddress: 2MGP+MRV, TC Palya, Battarahalli, Bengaluru, Karnataka 560036, India\\nGoogle place ID: ChIJj651qYYRrjsR9SQOiCe-d2U\\nPhone: Unknown\\nWebsite: Unknown\\n\\n\\n3. Model Village\\nAddress: Rachenahalli, Thanisandra, Bengaluru, Karnataka 560092, India\\nGoogle place ID: ChIJS1IR7MEZrjsRcQy4o6CgpUk\\nPhone: 080 2223 0060\\nWebsite: https://mgired.karnataka.gov.in/page/Model+Heritage+Village+(Rangoli+Gardens)/en\\n\\n\\n4. Kundalahalli Lake\\nAddress: C-33-1, Kundalahalli, Whitefield, Bengaluru, Karnataka 560037, India\\nGoogle place ID: ChIJiYFohwQTrjsRCXp2APahZes\\nPhone: Unknown\\nWebsite: Unknown\\n\\n\\n5. Watch Tower - sunset and lake view tower\\nAddress: Sri Venkateshpura Layout, Sampigehalli, Bengaluru, Karnataka 560064, India\\nGoogle place ID: ChIJS9Ey7rAZrjsR9TTiy-axmI8\\nPhone: Unknown\\nWebsite: Unknown\\n\\n\\n6. Tipu Sultan's Summer Palace\\nAddress: XH5F+PFR, Tippu Sultan Palace Rd, Chamrajpet, Bengaluru, Karnataka 560018, India\\nGoogle place ID: ChIJAeY0tOQVrjsRdZ8hleP7aRo\\nPhone: Unknown\\nWebsite: https://www.karnatakatourism.org/tour-item/tipu-sultans-summer-palace/\\n\\n\\n7. Benniganahalli Kere Park\\nAddress: XMW9+P9H, Krishna Reddy Industrial Estate, Dooravani Nagar, Bengaluru, Karnataka 560016, India\\nGoogle place ID: ChIJK0RxBTkRrjsRKeZXfe1_7ic\\nPhone: Unknown\\nWebsite: Unknown\\n\\n\\n8. Gangadhar kere/Lake\\nAddress: 9, 4th Cross Rd, Kanaka vinayaka extension, SHANTHI LAYOUT, Dr Ambedkar Nagar, Ramamurthy Nagar, Bengaluru, Karnataka 560816, India\\nGoogle place ID: ChIJm1TNByARrjsR8M33TlleLMs\\nPhone: Unknown\\nWebsite: Unknown\\n\\n\\n9. The MadLabs: Where Fun Meets Fascination\\nAddress: 1st floor, Snow city, Jayamahal Main Rd, opposite TV Tower, J.C.Nagar, Bengaluru, Karnataka 560006, India\\nGoogle place ID: ChIJ-2lgoG0XrjsRjQvrxjfPtY8\\nPhone: 088844 13733\\nWebsite: https://themadlabs.in/\\n\\n\\n10. Friendly Tabby White Car\\nAddress: Thatha tea, 2M, 305, EAST of NGEF, Sri Ganesh, Thatha Tea KasthuriNagar, SP Naidu Layout, Kasturi Nagar, Bengaluru, Karnataka 560043, India\\nGoogle place ID: ChIJs2GnIQARrjsRnoitO-8bdeQ\\nPhone: Unknown\\nWebsite: Unknown\\n\\n\\n11. Freedom Wall Bangalore\\nAddress: 3D, 3, 5th Cross Rd, Michealpalya 1st Stage, Michael Palaya, H Colony, Indiranagar, Bengaluru, Karnataka 560038, India\\nGoogle place ID: ChIJmS5aOwEXrjsRNLWsTg5J4lw\\nPhone: Unknown\\nWebsite: Unknown\\n\\n\\n12. Varthur Lake\\nAddress: XP2R+397, Kere, Devasthanagalu, Varthur, Bengaluru, Karnataka 560087, India\\nGoogle place ID: ChIJ____v3QSrjsRf9Jq9lHdBag\\nPhone: 080 2235 2828\\nWebsite: Unknown\\n\\n\\n13. Band Stand\\nAddress: Band stand, Cubbon Park Rd, Ambedkar Veedhi, Bengaluru, Karnataka 560001, India\\nGoogle place ID: ChIJz9IPVk0XrjsRWPU7Btt3rz4\\nPhone: Unknown\\nWebsite: Unknown\\n\\n\\n14. Krishnarajapuram.\\nAddress: 2M2G+CQ5, Krishnarajapuram Rd, Vijinapura, Dooravani Nagar, Bengaluru, Karnataka 560016, India\\nGoogle place ID: ChIJi8bNQAARrjsR-MRrPRT2AiU\\nPhone: Unknown\\nWebsite: Unknown\\n\\n\\n15. HAL Tejas Model Display\\nAddress: XHJW+8VM, Ambedkar Veedhi, Sampangi Rama Nagar, Bengaluru, Karnataka 560001, India\\nGoogle place ID: ChIJr08EcGUWrjsRN8fdUiYu3DM\\nPhone: 080 2235 2828\\nWebsite: Unknown\\n\\n\\n16. Tanav tours and travels\\nAddress: 4th Main Rd, near ms home's, GM Palya, C V Raman Nagar, Bengaluru, Karnataka 560075, India\\nGoogle place ID: ChIJJYFro-ERrjsRjpV3BfmEqgw\\nPhone: 088616 38724\\nWebsite: Unknown\\n\\n\\n17. LCA Aircraft Model\\nAddress: XMP7+VG8, DRDO Phase 1 Township, Viswa Vihar, C V Raman Nagar, Bengaluru, Karnataka 560093, India\\nGoogle place ID: ChIJaZYLx60RrjsR2GNZJfFGtRo\\nPhone: Unknown\\nWebsite: Unknown\\n\\n\\n18. Lalbagh Waterfall\\nAddress: WHWP+MH5, Mavalli, Bengaluru, Karnataka 560004, India\\nGoogle place ID: ChIJx3i0R8AVrjsRopE4pRSBhPw\\nPhone: 080 2235 2828\\nWebsite: Unknown\\n\\n\\n19. Fantasy Park\\nAddress: 2M7X+PRC, Battarahalli, Bengaluru, Karnataka 560036, India\\nGoogle place ID: ChIJcYxAeKoRrjsReCPo5-bw-fA\\nPhone: 080 2235 2828\\nWebsite: Unknown\\n\\n\\n20. Amusement exhibition\\nAddress: 2MCH+PQQ, Riches Garden Main Rd, Akshaya Nagar 1st Block, Raghavendra Nagar, Kalkere, Bengaluru, Karnataka 560016, India\\nGoogle place ID: ChIJ_4FYRAARrjsRKGqO3Z3wlFs\\nPhone: Unknown\\nWebsite: Unknown\\n\\n\""
      ]
     },
     "execution_count": 38,
     "metadata": {},
     "output_type": "execute_result"
    }
   ],
   "source": [
    "places.run(\"tourist attraction\")"
   ]
  },
  {
   "cell_type": "code",
   "execution_count": null,
   "id": "7e753187",
   "metadata": {},
   "outputs": [],
   "source": [
    "from langchain.tools import tool\n",
    "import requests\n",
    "\n",
    "GOOGLE_API_KEY = os.environ[\"GPLACES_API_KEY\"]\n",
    "PLACES_ENDPOINT = \"https://maps.googleapis.com/maps/api/place/textsearch/json\"\n",
    "\n",
    "def gather_places(destination: str, days: int):\n",
    "    \"\"\"\n",
    "    Gathers popular places in and around the destination.\n",
    "    Returns a list of {name, location_link, google_review_rating, other_link}.\n",
    "    \"\"\"\n",
    "    results = []\n",
    "\n",
    "    # 1. Google Places API\n",
    "    params = {\n",
    "        \"query\": f\"stays near {destination}\",\n",
    "        \"key\": GOOGLE_API_KEY\n",
    "    }\n",
    "    resp = requests.get(PLACES_ENDPOINT, params=params).json()\n",
    "    \n",
    "    for place in resp.get(\"results\", []):\n",
    "        results.append(place)\n",
    "\n",
    "    # 2. Blog/News search (example: Tavily API / SerpAPI)\n",
    "    # You’d fetch extra sources & update other_link\n",
    "\n",
    "    # 3. Adjust for trip days → filter/sort\n",
    "    if days <= 2:\n",
    "        results = results[:5]  # nearby highlights\n",
    "    elif days <= 5:\n",
    "        results = results[:10]\n",
    "    else:\n",
    "        results = results[:20]  # include long-distance places\n",
    "\n",
    "    return results\n"
   ]
  },
  {
   "cell_type": "code",
   "execution_count": 53,
   "id": "1dc68e81",
   "metadata": {},
   "outputs": [
    {
     "data": {
      "text/plain": [
       "[{'business_status': 'OPERATIONAL',\n",
       "  'formatted_address': 'Churicad, K Badaga, Ponnampet, Kutta, Karnataka 571250, India',\n",
       "  'geometry': {'location': {'lat': 12.0115884, 'lng': 76.05860609999999},\n",
       "   'viewport': {'northeast': {'lat': 12.01290517989272,\n",
       "     'lng': 76.06000997989273},\n",
       "    'southwest': {'lat': 12.01020552010728, 'lng': 76.05731032010728}}},\n",
       "  'icon': 'https://maps.gstatic.com/mapfiles/place_api/icons/v1/png_71/lodging-71.png',\n",
       "  'icon_background_color': '#909CE1',\n",
       "  'icon_mask_base_uri': 'https://maps.gstatic.com/mapfiles/place_api/icons/v2/hotel_pinlet',\n",
       "  'name': 'Machaan Wilderness Lodge Nagarahole',\n",
       "  'opening_hours': {'open_now': True},\n",
       "  'photos': [{'height': 2242,\n",
       "    'html_attributions': ['<a href=\"https://maps.google.com/maps/contrib/105813888601137423887\">Machaan Wilderness Lodge Nagarahole</a>'],\n",
       "    'photo_reference': 'AciIO2dHI9P4jxYXfxkU6j4-nHc9K45U36iwzTk85ZtIQ5Hl2yo5DPBg2frgXkuKnyUYUQjk3T-aWhObNciH7spvizdyjlZT8z_DPi-aFCVZ5x6idvIjx--NPaOr_SJPYxQzlfojmZTrzSUadX_FJWA30gj36wSKlcpT8OKTDdgdMswV0KEIz9IkhvsmhezQKUciz8xEHUbQIzlP6JvQ3zkG98uhvBTdAxIlRiCAuY-t2dVzLn04-tokelO9Q7pts2bpjFqZELIotOe6wyPwPg6sZ0NrkXCyco2iYFFhBeVECsE6jp4k5XQ',\n",
       "    'width': 3992}],\n",
       "  'place_id': 'ChIJLzuENjm6pTsR-7FtLNpAhvQ',\n",
       "  'plus_code': {'compound_code': '2365+JC Ponnampet, Karnataka',\n",
       "   'global_code': '7J4R2365+JC'},\n",
       "  'rating': 4.4,\n",
       "  'reference': 'ChIJLzuENjm6pTsR-7FtLNpAhvQ',\n",
       "  'types': ['lodging', 'park', 'point_of_interest', 'establishment'],\n",
       "  'user_ratings_total': 441},\n",
       " {'business_status': 'OPERATIONAL',\n",
       "  'formatted_address': 'Nagarhole Rd, Nalkeri Forest, Karnataka 571250, India',\n",
       "  'geometry': {'location': {'lat': 11.9824959, 'lng': 76.07570299999999},\n",
       "   'viewport': {'northeast': {'lat': 11.98385142989272,\n",
       "     'lng': 76.0770342298927},\n",
       "    'southwest': {'lat': 11.98115177010728, 'lng': 76.07433457010727}}},\n",
       "  'icon': 'https://maps.gstatic.com/mapfiles/place_api/icons/v1/png_71/lodging-71.png',\n",
       "  'icon_background_color': '#909CE1',\n",
       "  'icon_mask_base_uri': 'https://maps.gstatic.com/mapfiles/place_api/icons/v2/hotel_pinlet',\n",
       "  'name': 'Tiger Teak Homestay',\n",
       "  'opening_hours': {'open_now': True},\n",
       "  'photos': [{'height': 2268,\n",
       "    'html_attributions': ['<a href=\"https://maps.google.com/maps/contrib/105633126543196019804\">SWAGATO MONDAL</a>'],\n",
       "    'photo_reference': 'AciIO2eiC6VWKH4OGcE_qSK9rWtsakY8nFiDGrQVPQnR4MQHLNi9Tb3_Ft9PXWTAHuK6QJ_OQ1aNBm2YmlirLuIIxKCcIAF4a-j7wgAxjWfz7LJ5VEbyJyu2a50GPOMzD8Epv-8yuvl2FOps0hIcRJWal1cODPk60OE3bNMnb5_RzCKMy5DjyPxa7hkh2IkLC6JxdeNZToBz4hLajsKBSn8per3ETxL68c16xcMy84__iHrRfc41TLNk8SWhOzTC7_87Wdt7rE9wwTfI2DaEqb8jXMkmjZ2cRv0OJrcG56f_hz2GuVxH1YKNHdXAF0yMnCmbC0LimDYxT_ZHGRB4hvPsrQzbTXwspowxfZc28TR_rx-rTj7jQ62RQbtHIdCkw9exYtWQGXAidRxRSTZvN8c9CVme6FdTpaQV8UP7PJxfam0RUDAY4txIsMLJGO9Zftiq-fDwt6WtlcBWyZarYJuYIQwzC2qMhXKPFe0eoD4CePP3joUIaRT6ANz7RwN4Vblc_vtKk973KKVzWGXzc5fA7uKiMW9j32xkFWWNTwpjpMcYZf8PpxMbwtuWNAe7uQr9yplYHWHi',\n",
       "    'width': 4032}],\n",
       "  'place_id': 'ChIJfxsoDx7CpTsRm-xHaJ-yAi8',\n",
       "  'plus_code': {'compound_code': 'X3JG+X7 Nalkeri Forest, Karnataka',\n",
       "   'global_code': '7J3RX3JG+X7'},\n",
       "  'rating': 3.7,\n",
       "  'reference': 'ChIJfxsoDx7CpTsRm-xHaJ-yAi8',\n",
       "  'types': ['lodging', 'point_of_interest', 'establishment'],\n",
       "  'user_ratings_total': 78},\n",
       " {'business_status': 'OPERATIONAL',\n",
       "  'formatted_address': '19km ,Veeranahosahalli Hunsur, Nagarhole Rd, Veeranahosahalli, Karnataka 571106, India',\n",
       "  'geometry': {'location': {'lat': 12.177265, 'lng': 76.2046297},\n",
       "   'viewport': {'northeast': {'lat': 12.17860172989272,\n",
       "     'lng': 76.20604312989272},\n",
       "    'southwest': {'lat': 12.17590207010728, 'lng': 76.20334347010727}}},\n",
       "  'icon': 'https://maps.gstatic.com/mapfiles/place_api/icons/v1/png_71/lodging-71.png',\n",
       "  'icon_background_color': '#909CE1',\n",
       "  'icon_mask_base_uri': 'https://maps.gstatic.com/mapfiles/place_api/icons/v2/hotel_pinlet',\n",
       "  'name': 'Jungle Inn',\n",
       "  'photos': [{'height': 768,\n",
       "    'html_attributions': ['<a href=\"https://maps.google.com/maps/contrib/111474646535990151613\">Jungle Inn</a>'],\n",
       "    'photo_reference': 'AciIO2dZj9xWQYNemN9nQW8JaPRPBiE1gtLjiZrE4xsYDC9ktkP7G45wNi7Oup4pxG6NZg6gqefjb0DYvylKxJyX28NWvAojaKECEWc8VvJ-tWPP_aYdkKD9uQZDjyFSstn5gKhVgn0WWuCdWDUJhBuHn2O443rCLD_ipCzaOI4BYZRp64tB2MqodzB_wgEd2-rp6itdxCoURhi8oNS_mIb7mn-FAP3qBV-Xyqg80-NUGQUUnqr_CfbGfV8QOHkyXhZpLUWSrxs5QSrtmPbXAJfGYbnQE44I7n_rpUwTEWO5J3zZa6EkP7Y',\n",
       "    'width': 1024}],\n",
       "  'place_id': 'ChIJ_dR5pd-TpTsRswchMw0JtKE',\n",
       "  'plus_code': {'compound_code': '56G3+WV Veeranahosahalli, Karnataka',\n",
       "   'global_code': '7J4R56G3+WV'},\n",
       "  'rating': 4,\n",
       "  'reference': 'ChIJ_dR5pd-TpTsRswchMw0JtKE',\n",
       "  'types': ['lodging', 'point_of_interest', 'establishment'],\n",
       "  'user_ratings_total': 746},\n",
       " {'business_status': 'OPERATIONAL',\n",
       "  'formatted_address': 'Nagarahole Tiger Reserve, Nagarahole Tiger Reserve, Bharatwadi Village Hunsur Taluk, Veernacholli, Karnataka 571106, India',\n",
       "  'geometry': {'location': {'lat': 12.1919169, 'lng': 76.20706129999999},\n",
       "   'viewport': {'northeast': {'lat': 12.19328417989272,\n",
       "     'lng': 76.20855332989271},\n",
       "    'southwest': {'lat': 12.19058452010728, 'lng': 76.20585367010727}}},\n",
       "  'icon': 'https://maps.gstatic.com/mapfiles/place_api/icons/v1/png_71/lodging-71.png',\n",
       "  'icon_background_color': '#909CE1',\n",
       "  'icon_mask_base_uri': 'https://maps.gstatic.com/mapfiles/place_api/icons/v2/hotel_pinlet',\n",
       "  'name': 'Nature Nook',\n",
       "  'photos': [{'height': 640,\n",
       "    'html_attributions': ['<a href=\"https://maps.google.com/maps/contrib/103566618404678087069\">Nature Nook</a>'],\n",
       "    'photo_reference': 'AciIO2dIZeQPDyolAAd8UF0RSby2PYTG2NlKr9yuPUEq-iuszvxFGOJXbLTmM0M8heVF3pWfMhOl7qUlJa0RLIGPXLSCXoabpIUEfUy5W5K6yAsuP1RCB4CVz-4oZM-UAmCYdtD6obt5Dw-GgtbfXr0Y0O47cWTMiG7IhvkP9M0h5NtZqHbvkJfHgNX0AFbwiBej-RfA2HikJWK72YbELrKBUi4MJadE95GU0_d9WkhLuyCoTMR_r77XIIaYhEA9c4GA62au_0SA3qlzgv1MFb7OMOxXW9tnlYIuAblmFvikUvOoUUlnV6I',\n",
       "    'width': 1000}],\n",
       "  'place_id': 'ChIJjVVrizyFpTsR90E5LvkVIbc',\n",
       "  'plus_code': {'compound_code': '56R4+QR Dasanapura, Karnataka',\n",
       "   'global_code': '7J4R56R4+QR'},\n",
       "  'rating': 4.7,\n",
       "  'reference': 'ChIJjVVrizyFpTsR90E5LvkVIbc',\n",
       "  'types': ['lodging', 'park', 'point_of_interest', 'establishment'],\n",
       "  'user_ratings_total': 155},\n",
       " {'business_status': 'OPERATIONAL',\n",
       "  'formatted_address': 'Nissana Beltur Post, HD Kote Taluk Karapura, Around, Karnataka 571116, India',\n",
       "  'geometry': {'location': {'lat': 11.9390102, 'lng': 76.2695079},\n",
       "   'viewport': {'northeast': {'lat': 11.94036857989272,\n",
       "     'lng': 76.27088817989272},\n",
       "    'southwest': {'lat': 11.93766892010728, 'lng': 76.26818852010727}}},\n",
       "  'icon': 'https://maps.gstatic.com/mapfiles/place_api/icons/v1/png_71/lodging-71.png',\n",
       "  'icon_background_color': '#909CE1',\n",
       "  'icon_mask_base_uri': 'https://maps.gstatic.com/mapfiles/place_api/icons/v2/hotel_pinlet',\n",
       "  'name': 'Jungle Lodges and Resorts- Kabini River Lodge',\n",
       "  'photos': [{'height': 1920,\n",
       "    'html_attributions': ['<a href=\"https://maps.google.com/maps/contrib/115781158379391401402\">Jungle Lodges and Resorts- Kabini River Lodge</a>'],\n",
       "    'photo_reference': 'AciIO2e_jBubiURkNpiK0MUkfulLP0eIBvg4FwX3qHnht78fS0kGEps3be4TaxTmgt2llevYV1Epf1AWwmeczt93CdXkasnnQFdCtIXlNeFEBF6Ohn65HmhyEJM2DedduKtSjlxFC-YgFAh8sYzalgTYeDoZhOqGciRYv_KEZkuky6vCkfMZNUzcovyhXhPplu9jXGXLpZZeojs5f2Q6jcYki_-NDt2HpHP3yKO-gxhQj4gzmrOb3NmcZ9iXlN61RbzyFx1HKJlg6c782cSbwYlkk95mJXaZkzgw1ykt1Z5pqFHP1rZRGqE',\n",
       "    'width': 2880}],\n",
       "  'place_id': 'ChIJ6_yKDJDvpTsRk4ql5-Sni6E',\n",
       "  'plus_code': {'compound_code': 'W7Q9+JR Jakkalli (N. Begur), Karnataka',\n",
       "   'global_code': '7J3RW7Q9+JR'},\n",
       "  'rating': 4.6,\n",
       "  'reference': 'ChIJ6_yKDJDvpTsRk4ql5-Sni6E',\n",
       "  'types': ['lodging', 'point_of_interest', 'establishment'],\n",
       "  'user_ratings_total': 1182},\n",
       " {'business_status': 'OPERATIONAL',\n",
       "  'formatted_address': 'Bavali, Karnataka 571114, India',\n",
       "  'geometry': {'location': {'lat': 11.8553497, 'lng': 76.1178398},\n",
       "   'viewport': {'northeast': {'lat': 11.85679002989272,\n",
       "     'lng': 76.11930487989271},\n",
       "    'southwest': {'lat': 11.85409037010728, 'lng': 76.11660522010727}}},\n",
       "  'icon': 'https://maps.gstatic.com/mapfiles/place_api/icons/v1/png_71/lodging-71.png',\n",
       "  'icon_background_color': '#909CE1',\n",
       "  'icon_mask_base_uri': 'https://maps.gstatic.com/mapfiles/place_api/icons/v2/hotel_pinlet',\n",
       "  'name': 'Regenta Jungle Resort Kabini Springs',\n",
       "  'photos': [{'height': 960,\n",
       "    'html_attributions': ['<a href=\"https://maps.google.com/maps/contrib/117913265785566238535\">Regenta Jungle Resort Kabini Springs</a>'],\n",
       "    'photo_reference': 'AciIO2cBdjTvc87DV1SD-Vg76_ytlfyqBRXuvsicfhgProDeCIvL-kblhgznRdLj8UYyAdLC8MyRAn75TONvYM9gPQFQuIqMqN4d6Ti3ZPeDB4sM0pqpN4Z_b366jPM-O7fcZR-fDkZpIS9CHO3kRSmToSRpG1iubZoGZKxOh10EPx8kF5HeTeVY-7b0alF7QiouUAynRwyVWGosDkuNd59vYDiQ4RsRZBIgOaO8t8OQu5knwZA-USNvQAfyaTygPUiyGUH0egZv40eLJSfzq_-1_lBy91Px4BXG05ZLV-vodjpj91em15w',\n",
       "    'width': 1280}],\n",
       "  'place_id': 'ChIJk6hjo1jnpTsRJNXGdAinPb8',\n",
       "  'plus_code': {'compound_code': 'V449+44 Bavali, Kerala',\n",
       "   'global_code': '7J3RV449+44'},\n",
       "  'rating': 4.3,\n",
       "  'reference': 'ChIJk6hjo1jnpTsRJNXGdAinPb8',\n",
       "  'types': ['lodging', 'point_of_interest', 'establishment'],\n",
       "  'user_ratings_total': 657},\n",
       " {'business_status': 'OPERATIONAL',\n",
       "  'formatted_address': 'Nagarhole Rd, Nalkeri Forest, Karnataka 571250, India',\n",
       "  'geometry': {'location': {'lat': 11.9933486, 'lng': 76.0681441},\n",
       "   'viewport': {'northeast': {'lat': 11.99463842989272,\n",
       "     'lng': 76.06952917989273},\n",
       "    'southwest': {'lat': 11.99193877010728, 'lng': 76.06682952010729}}},\n",
       "  'icon': 'https://maps.gstatic.com/mapfiles/place_api/icons/v1/png_71/lodging-71.png',\n",
       "  'icon_background_color': '#909CE1',\n",
       "  'icon_mask_base_uri': 'https://maps.gstatic.com/mapfiles/place_api/icons/v2/hotel_pinlet',\n",
       "  'name': 'Gateway Stay',\n",
       "  'opening_hours': {'open_now': True},\n",
       "  'photos': [{'height': 3120,\n",
       "    'html_attributions': ['<a href=\"https://maps.google.com/maps/contrib/112673095432026880131\">Gateway Stay</a>'],\n",
       "    'photo_reference': 'AciIO2cyfJbAyPutfg2heYqEnbbOiP8cFpZJ9V9OESMQKR7bldVztIcXQEif9BULNbwPMsfDO8Fl6cPyXm9yz9U6j6PEuhkHqQmU0ryhzE0-FjTXDt3w4dr7Flp4CZ2hrBRWkQ0lFypt6UE2H5rqcsxWqeHHxZh5AFF-OTu_TTcX9YKYPj89JWVnwIsBAFGnL4qZZtZg1kuzOhchcuZDO9t-V3r-qJuHREm0PfsoluArT6TyNXSrcqMNqlSsBv5eJ0ZjTe5KHYkn49Q0ky0NCnjJhGm3QunKHqEyggOoev-HnaHE4wRNCLs',\n",
       "    'width': 4160}],\n",
       "  'place_id': 'ChIJA7CWBx7CpTsR3b1n1w_XsxA',\n",
       "  'plus_code': {'compound_code': 'X3V9+87 Nalkeri Forest, Karnataka',\n",
       "   'global_code': '7J3RX3V9+87'},\n",
       "  'rating': 4.9,\n",
       "  'reference': 'ChIJA7CWBx7CpTsR3b1n1w_XsxA',\n",
       "  'types': ['lodging', 'point_of_interest', 'establishment'],\n",
       "  'user_ratings_total': 113},\n",
       " {'business_status': 'OPERATIONAL',\n",
       "  'formatted_address': 'Nagarhole Rd, Nalkeri Forest, Karnataka 571250, India',\n",
       "  'geometry': {'location': {'lat': 11.9834551, 'lng': 76.0660379},\n",
       "   'viewport': {'northeast': {'lat': 11.98478672989272,\n",
       "     'lng': 76.06738197989272},\n",
       "    'southwest': {'lat': 11.98208707010728, 'lng': 76.06468232010727}}},\n",
       "  'icon': 'https://maps.gstatic.com/mapfiles/place_api/icons/v1/png_71/lodging-71.png',\n",
       "  'icon_background_color': '#909CE1',\n",
       "  'icon_mask_base_uri': 'https://maps.gstatic.com/mapfiles/place_api/icons/v2/hotel_pinlet',\n",
       "  'name': 'Gaja Villa Nagarahole',\n",
       "  'opening_hours': {'open_now': False},\n",
       "  'photos': [{'height': 4032,\n",
       "    'html_attributions': ['<a href=\"https://maps.google.com/maps/contrib/109909506887198404839\">Gaja Villa Nagarahole</a>'],\n",
       "    'photo_reference': 'AciIO2fk5yIBKrSXQDTvDgf_kjabW2-39gNfk6cRqyLfYUB_12cXGCdTNkKPQbwoHIlm3bJf-W3tcltPODRhsajx5R-0ZTKqUVr5iS_5_19USu8p-qvbvmzN9CXF22SuynmxcQ9AHAn2U9w9cQ1_zZF1VLgtPKPGTDHk0GYaTv7z__9OvSgo1XPql_331_b3HuuecHuxzzWJlpZ8D-tJ7w5cWc-8x3v5tPl4EiXnF-Y-cMws_QjfW-drvE6MiLfpgslF_IMoWA0YnHsn5ROObaFErZ5BWBlBrRWpbWnARtKuAVBYqhXxIck',\n",
       "    'width': 3024}],\n",
       "  'place_id': 'ChIJH6e3rpmVpTsRXOHeNMVAzVk',\n",
       "  'plus_code': {'compound_code': 'X3M8+9C Nalkeri Forest, Karnataka',\n",
       "   'global_code': '7J3RX3M8+9C'},\n",
       "  'rating': 4.6,\n",
       "  'reference': 'ChIJH6e3rpmVpTsRXOHeNMVAzVk',\n",
       "  'types': ['lodging', 'point_of_interest', 'establishment'],\n",
       "  'user_ratings_total': 259},\n",
       " {'business_status': 'OPERATIONAL',\n",
       "  'formatted_address': 'Kartikulam - Mananthavady Rd, Kerala 670646, India',\n",
       "  'geometry': {'location': {'lat': 11.8354709, 'lng': 76.0491591},\n",
       "   'viewport': {'northeast': {'lat': 11.83680867989272,\n",
       "     'lng': 76.05054487989271},\n",
       "    'southwest': {'lat': 11.83410902010728, 'lng': 76.04784522010726}}},\n",
       "  'icon': 'https://maps.gstatic.com/mapfiles/place_api/icons/v1/png_71/lodging-71.png',\n",
       "  'icon_background_color': '#909CE1',\n",
       "  'icon_mask_base_uri': 'https://maps.gstatic.com/mapfiles/place_api/icons/v2/hotel_pinlet',\n",
       "  'name': 'Tiger County Jungle Lodge',\n",
       "  'photos': [{'height': 2084,\n",
       "    'html_attributions': ['<a href=\"https://maps.google.com/maps/contrib/100400384388237217412\">ടൈഗർ കൗണ്ടി ജംഗിൾ ലോഡ്ജ്</a>'],\n",
       "    'photo_reference': 'AciIO2cBaL1Q5Gx9S0uKkl6xs08sIM5nDcfanfqtV_JypmGNdfaSx_HnBEyqy3p0w1cdKTRcwZRG36dzhkBSXEG3C8H-uYxbLJrcUmdPwqn885OOScHYVQNjhm1HO5YPI_ydbJcyUBm-ulr891CIg6htdBUtAtCosTTk5cW5yYADrbB-8Hy_o4L_qan3s70oMjatdJHBZTIypJK7B4t63VTWKNDdBBkJl-9-gntabRgCYW1W1d6Q1ZXu8Hp_z8qpzqlvnJInmEChCD-XI1hGjiohip85ZDg9IpgZmrsNQy0apYIbK6LomOg',\n",
       "    'width': 4624}],\n",
       "  'place_id': 'ChIJTT8ot3jdpTsRsZ143AjWn1Y',\n",
       "  'plus_code': {'compound_code': 'R2PX+5M Payyampally, Kerala',\n",
       "   'global_code': '7J3RR2PX+5M'},\n",
       "  'rating': 4.5,\n",
       "  'reference': 'ChIJTT8ot3jdpTsRsZ143AjWn1Y',\n",
       "  'types': ['lodging', 'point_of_interest', 'establishment'],\n",
       "  'user_ratings_total': 268},\n",
       " {'business_status': 'OPERATIONAL',\n",
       "  'formatted_address': 'Gundathur Village, Kabini Road, Nisana Hobli, Karapura, Heggadadevankote, Karnataka 571116, India',\n",
       "  'geometry': {'location': {'lat': 11.9385333, 'lng': 76.2443679},\n",
       "   'viewport': {'northeast': {'lat': 11.93996887989272,\n",
       "     'lng': 76.24554847989272},\n",
       "    'southwest': {'lat': 11.93726922010728, 'lng': 76.24284882010727}}},\n",
       "  'icon': 'https://maps.gstatic.com/mapfiles/place_api/icons/v1/png_71/lodging-71.png',\n",
       "  'icon_background_color': '#909CE1',\n",
       "  'icon_mask_base_uri': 'https://maps.gstatic.com/mapfiles/place_api/icons/v2/hotel_pinlet',\n",
       "  'name': 'The Bison Wildlife Resort Kabini',\n",
       "  'photos': [{'height': 1200,\n",
       "    'html_attributions': ['<a href=\"https://maps.google.com/maps/contrib/117218116971391296333\">The Bison Wildlife Resort Kabini</a>'],\n",
       "    'photo_reference': 'AciIO2fOAeYzb2qPQwy-tANTG2zdWAdK9SRiWppWZDkgEpPlvHQayTjsT9Wg55DUbHzdaoKaNUz1zttx1QPOQUYahD3y0_gNZyZ3dUpx5shpLNf18VYC-Mm07piVggOejOHtZT_opCRIuWmgGr7IsE5j6zEcbygo2XJrWoflDgQlzQ067_oBNzmCMembc-7ujcIbX84uc_Q2H4u2ZpBCVtXpavBrso_CiSS5sgePEcpco_3BJ8k10IVJyzayiPCy-rFpNlMDLhQe6kwfKZLjasFJIqkr86ehR0YKML9jYJT40JvqZNPzmRU',\n",
       "    'width': 1800}],\n",
       "  'place_id': 'ChIJRa0WWvHxpTsRI3E65W5VysU',\n",
       "  'plus_code': {'compound_code': 'W6QV+CP Karapura, Karnataka',\n",
       "   'global_code': '7J3RW6QV+CP'},\n",
       "  'rating': 4.3,\n",
       "  'reference': 'ChIJRa0WWvHxpTsRI3E65W5VysU',\n",
       "  'types': ['lodging', 'point_of_interest', 'establishment'],\n",
       "  'user_ratings_total': 750}]"
      ]
     },
     "execution_count": 53,
     "metadata": {},
     "output_type": "execute_result"
    }
   ],
   "source": [
    "gather_places(\"nagarhole tiger safari\", 5)"
   ]
  },
  {
   "cell_type": "code",
   "execution_count": null,
   "id": "070b89b6",
   "metadata": {},
   "outputs": [],
   "source": []
  }
 ],
 "metadata": {
  "kernelspec": {
   "display_name": ".venv",
   "language": "python",
   "name": "python3"
  },
  "language_info": {
   "codemirror_mode": {
    "name": "ipython",
    "version": 3
   },
   "file_extension": ".py",
   "mimetype": "text/x-python",
   "name": "python",
   "nbconvert_exporter": "python",
   "pygments_lexer": "ipython3",
   "version": "3.13.3"
  }
 },
 "nbformat": 4,
 "nbformat_minor": 5
}
